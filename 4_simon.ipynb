{
 "cells": [
  {
   "cell_type": "code",
   "execution_count": 1,
   "metadata": {},
   "outputs": [],
   "source": [
    "import qiskit\n",
    "import numpy as np"
   ]
  },
  {
   "cell_type": "code",
   "execution_count": 2,
   "metadata": {},
   "outputs": [],
   "source": [
    "\"\"\" \n",
    "    Qiskit\n",
    "    https://qiskit.org/documentation/getting_started.html\n",
    "\"\"\"\n",
    "from qiskit import(\n",
    "  QuantumCircuit,\n",
    "  execute,\n",
    "  Aer)\n",
    "from qiskit.visualization import plot_histogram\n",
    "\n",
    "# |x, y> => |x, y ⊕ f(x)>\n",
    "# y = (|0> - |1>)/√2 (或是寫成 |->)\n",
    "# => |x> ⊗ (|0 ⊕ f(x)> - |1 ⊕ f(x)>) /√2 \n",
    "# binary XOR 跟 NOT 一樣\n",
    "# => |x> ⊗ (|f(x)> - |not f(x)>) /√2 \n",
    "# x = 0,  |x>|y>  (+ 正的)\n",
    "# x = 1, -|x>|y>  (- 負的)\n",
    "# 寫成一起: (-1)^f(x) |x>|y>\n",
    "# x = (|0> + |1>)/√2"
   ]
  },
  {
   "cell_type": "code",
   "execution_count": 3,
   "metadata": {},
   "outputs": [
    {
     "name": "stdout",
     "output_type": "stream",
     "text": [
      "Result are: {'101': 1024}\n"
     ]
    },
    {
     "data": {
      "image/png": "[encoded data removed]",
      "text/plain": [
       "<Figure size 900.592x325.08 with 1 Axes>"
      ]
     },
     "execution_count": 3,
     "metadata": {},
     "output_type": "execute_result"
    }
   ],
   "source": [
    "\"\"\"\n",
    "    Bernstein-Vazirani algorithm:\n",
    "    https://qiskit.org/textbook/ch-algorithms/bernstein-vazirani.html\n",
    "\"\"\"\n",
    "# 給一個 Oracle f:{0, 1}^n -> {0, 1} \n",
    "# 相對於 Deutsch-Jozsa 要判斷 f(x) 是否 constant \n",
    "# 這邊 f(x) 是 x 與某個秘密 string s={0, 1}^n 的 dot product (mod 2) \n",
    "# f(x) 會 return s Dot x (mod 2)\n",
    "# 請求出 s \n",
    "simulator = Aer.get_backend('qasm_simulator')\n",
    "\n",
    "# 需要 3 qubit + 1 control qubit\n",
    "s = \"101\"\n",
    "circuit = QuantumCircuit(4, 3)\n",
    "\n",
    "circuit.x(3) #(=Not gate) 讓 qubit 3 (第四個) 的輸入是 1\n",
    "circuit.barrier()\n",
    "circuit.h([0, 1, 2, 3]) # 0~3 都放上 H gates\n",
    "circuit.barrier()\n",
    "\n",
    "# Uf 的部分\n",
    "# s = 101\n",
    "# 以下都會讓 f(x) = 1\n",
    "# 001\n",
    "# 011\n",
    "# 100\n",
    "# 110\n",
    "# 變成 -|x>\n",
    "s = s[::-1] # 為了 qiskit 順序\n",
    "for i, word in enumerate(s):\n",
    "    if word == '1':\n",
    "        circuit.cx(i, 3) #與 conrol bit 互動\n",
    "    else:\n",
    "        circuit.i(i) # I gate 就是不做事，只是為了清楚說明\n",
    "# with cx (CNOT)\n",
    "# (|0>+|1>)(|0>-|1>) \n",
    "# => (|0>+|1>)(|1>-|0>)\n",
    "# => -(|0>+|1>)(|0>-|1>) #要讓負號往前就要cnot\n",
    "# (cx, i, cx)\n",
    "# 直接實作 apply Uf 後的輸出\n",
    "# (-|+> |+> -|+>) |-> (control qubit)\n",
    "# 得到 101\n",
    "circuit.barrier()\n",
    "# 注意! cx, CNot 其實如下\n",
    "# [1 0 0 0]\n",
    "# [0 1 0 0]\n",
    "# [0 0 0 1]\n",
    "# [0 0 1 0]\n",
    "# |10> to |11>, |11> to |10>\n",
    "\n",
    "# final H gate\n",
    "# *H gate 除了會讓 000 變成疊加 -> 疊加態 inverse 也是 H 回推到 000 \n",
    "# 所以藉由 H gates 讓 ½(|00> + |01> - |10> - |11>)  變回 |10> \n",
    "circuit.h([0, 1, 2, 3])\n",
    "circuit.barrier()\n",
    "\n",
    "# Map the quantum measurement to the classical bits\n",
    "circuit.measure([0, 1, 2], [0, 1, 2])\n",
    "\n",
    "# Execute the circuit on the qasm simulator\n",
    "job = execute(circuit, simulator)\n",
    "\n",
    "# Grab results from the job\n",
    "result = job.result()\n",
    "\n",
    "# Returns counts\n",
    "counts = result.get_counts(circuit)\n",
    "print(\"Result are:\",counts)\n",
    "\n",
    "# Draw the circuit\n",
    "circuit.draw(output='mpl')\n",
    "# 順序 q1(y) q0(x) .."
   ]
  },
  {
   "cell_type": "code",
   "execution_count": 4,
   "metadata": {},
   "outputs": [
    {
     "name": "stdout",
     "output_type": "stream",
     "text": [
      "Result are: {'001': 1024}\n"
     ]
    },
    {
     "data": {
      "image/png": "[encoded data removed]",
      "text/plain": [
       "<Figure size 1081.19x264.88 with 1 Axes>"
      ]
     },
     "execution_count": 4,
     "metadata": {},
     "output_type": "execute_result"
    }
   ],
   "source": [
    "\"\"\"\n",
    "    Simon's Algorithm\n",
    "    https://qiskit.org/textbook/ch-algorithms/simon.html\n",
    "\"\"\"\n",
    "#\n",
    "#\n",
    "#\n",
    "\n",
    "simulator = Aer.get_backend('qasm_simulator')\n",
    "\n",
    "# 2 個 qubit 當輸入可能， 1 個 control qubit\n",
    "circuit = QuantumCircuit(3, 3)\n",
    "\n",
    "circuit.x(2) #(=Not gate) 讓 qubit 2 (第三個) 的輸入是 1 (control qubit)\n",
    "circuit.barrier()\n",
    "circuit.h([0, 1, 2]) # 0~2 都放上 H gates\n",
    "circuit.barrier()\n",
    "\n",
    "# Uf (Quantum Oracle)\n",
    "\n",
    "circuit.barrier()\n",
    "\n",
    "# Map the quantum measurement to the classical bits\n",
    "circuit.measure([0, 1], [0, 1])\n",
    "\n",
    "# Execute the circuit on the qasm simulator\n",
    "job = execute(circuit, simulator)\n",
    "\n",
    "# Grab results from the job\n",
    "result = job.result()\n",
    "\n",
    "# Returns counts\n",
    "counts = result.get_counts(circuit)\n",
    "print(\"Result are:\",counts)\n",
    "\n",
    "# Draw the circuit\n",
    "circuit.draw(output='mpl')\n",
    "# 順序 q2, q1, q0, ...\n",
    "# 答案確實為 10 (q0, q1)"
   ]
  },
  {
   "cell_type": "code",
   "execution_count": null,
   "metadata": {},
   "outputs": [],
   "source": []
  }
 ],
 "metadata": {
  "kernelspec": {
   "display_name": "Python 3",
   "language": "python",
   "name": "python3"
  },
  "language_info": {
   "codemirror_mode": {
    "name": "ipython",
    "version": 3
   },
   "file_extension": ".py",
   "mimetype": "text/x-python",
   "name": "python",
   "nbconvert_exporter": "python",
   "pygments_lexer": "ipython3",
   "version": "3.7.7"
  }
 },
 "nbformat": 4,
 "nbformat_minor": 2
}
