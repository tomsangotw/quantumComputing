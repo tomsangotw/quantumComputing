{
 "cells": [
  {
   "cell_type": "code",
   "execution_count": 1,
   "metadata": {},
   "outputs": [],
   "source": [
    "import qiskit\n",
    "import numpy as np"
   ]
  },
  {
   "cell_type": "code",
   "execution_count": 2,
   "metadata": {},
   "outputs": [
    {
     "name": "stdout",
     "output_type": "stream",
     "text": [
      "[[1.]\n",
      " [0.]]\n",
      "[[0.]\n",
      " [1.]]\n"
     ]
    }
   ],
   "source": [
    "\"\"\" \n",
    "Quantum Computing in Python: Introduction\n",
    "http://dkopczyk.quantee.co.uk/quantum-computing-in-python-introduction/\n",
    "\n",
    "    |0> (col) \n",
    "    <0| (row)\n",
    "\"\"\"\n",
    "state_zero = np.array([\n",
    "    [1],\n",
    "    [0]\n",
    "], dtype=np.float64)\n",
    "print(state_zero)\n",
    "\"\"\"\n",
    "    |1>\n",
    "\"\"\"\n",
    "state_one = np.array([\n",
    "    [0],\n",
    "    [1]\n",
    "], dtype=np.float64)\n",
    "print(state_one)"
   ]
  },
  {
   "cell_type": "code",
   "execution_count": 3,
   "metadata": {},
   "outputs": [],
   "source": [
    "Hadamard_Gate = 1./np.sqrt(2) * np.array([\n",
    "    [1., 1.],\n",
    "    [1.,-1.]\n",
    "])"
   ]
  },
  {
   "cell_type": "code",
   "execution_count": 4,
   "metadata": {},
   "outputs": [
    {
     "name": "stdout",
     "output_type": "stream",
     "text": [
      "[[0.]\n",
      " [0.]\n",
      " [0.]\n",
      " [1.]\n",
      " [0.]\n",
      " [0.]\n",
      " [0.]\n",
      " [0.]]\n"
     ]
    }
   ],
   "source": [
    "\"\"\"\n",
    "    所以 |01> 可用 np.kron(0, 1)\n",
    "\"\"\"\n",
    "def multi_kron(*args): #接受任意變數\n",
    "    ret = np.ones((1))\n",
    "    for q in args:\n",
    "        ret = np.kron(ret, q)\n",
    "    return ret\n",
    " \n",
    "state_multi = multi_kron(state_zero, state_one, state_one)\n",
    "print(state_multi)"
   ]
  },
  {
   "cell_type": "code",
   "execution_count": null,
   "metadata": {},
   "outputs": [],
   "source": []
  },
  {
   "cell_type": "code",
   "execution_count": 5,
   "metadata": {},
   "outputs": [
    {
     "data": {
      "text/plain": [
       "' \\nQuantum algorithms: Deutsch’s (DOIGE) algorithm\\nhttp://dkopczyk.quantee.co.uk/deutschs-algorithm/\\n\\n'"
      ]
     },
     "execution_count": 5,
     "metadata": {},
     "output_type": "execute_result"
    }
   ],
   "source": [
    "\"\"\" \n",
    "Quantum algorithms: Deutsch’s (DOIGE) algorithm\n",
    "http://dkopczyk.quantee.co.uk/deutschs-algorithm/\n",
    "\n",
    "\"\"\""
   ]
  },
  {
   "cell_type": "code",
   "execution_count": 6,
   "metadata": {},
   "outputs": [
    {
     "name": "stdout",
     "output_type": "stream",
     "text": [
      "[[0.]\n",
      " [0.]\n",
      " [0.]\n",
      " [1.]\n",
      " [0.]\n",
      " [0.]\n",
      " [0.]\n",
      " [0.]]\n",
      "[[ 0.35355339]\n",
      " [-0.35355339]\n",
      " [-0.35355339]\n",
      " [ 0.35355339]\n",
      " [ 0.35355339]\n",
      " [-0.35355339]\n",
      " [-0.35355339]\n",
      " [ 0.35355339]]\n"
     ]
    }
   ],
   "source": [
    "# 測試 Hadamard gate 性質\n",
    "# |011> 經過 H\n",
    "# H|0> = (|0>+|1>)\n",
    "# H|1> = (|0>-|1>)\n",
    "# => 1/sqrt(8)(|0>+|1>)(|0>-|1>)(|0>-|1>)\n",
    "# => 1/sqrt(8)(|000> - |001> - |010> + |011> + ... + |111>)\n",
    "# 注意負號分配的部分，只有 |1> 有負號 !!\n",
    "# *1/sqrt(8) = 0.35355 \n",
    "\n",
    "state_011 = multi_kron(state_zero, state_one, state_one)\n",
    "print(state_011)\n",
    "Hadamard_Gate_3_qubit = multi_kron(Hadamard_Gate, Hadamard_Gate, Hadamard_Gate)\n",
    "#print(Hadamard_Gate_3_qubit)\n",
    "result = np.dot(Hadamard_Gate_3_qubit, state_011)\n",
    "print(result)"
   ]
  },
  {
   "cell_type": "code",
   "execution_count": 7,
   "metadata": {},
   "outputs": [
    {
     "name": "stdout",
     "output_type": "stream",
     "text": [
      "\n",
      "Total count for 00 and 11 are: {'00': 508, '11': 492}\n"
     ]
    },
    {
     "data": {
      "text/html": [
       "<pre style=\"word-wrap: normal;white-space: pre;background: #fff0;line-height: 1.1;font-family: &quot;Courier New&quot;,Courier,monospace\">     ┌───┐     ┌─┐   \n",
       "q_0: ┤ H ├──■──┤M├───\n",
       "     └───┘┌─┴─┐└╥┘┌─┐\n",
       "q_1: ─────┤ X ├─╫─┤M├\n",
       "          └───┘ ║ └╥┘\n",
       "c_0: ═══════════╩══╬═\n",
       "                   ║ \n",
       "c_1: ══════════════╩═\n",
       "                     </pre>"
      ],
      "text/plain": [
       "     ┌───┐     ┌─┐   \n",
       "q_0: ┤ H ├──■──┤M├───\n",
       "     └───┘┌─┴─┐└╥┘┌─┐\n",
       "q_1: ─────┤ X ├─╫─┤M├\n",
       "          └───┘ ║ └╥┘\n",
       "c_0: ═══════════╩══╬═\n",
       "                   ║ \n",
       "c_1: ══════════════╩═\n",
       "                     "
      ]
     },
     "execution_count": 7,
     "metadata": {},
     "output_type": "execute_result"
    }
   ],
   "source": [
    "# Qiskit\n",
    "# https://qiskit.org/documentation/getting_started.html\n",
    "# https://qiskit.org/textbook/ch-algorithms/deutsch-josza.html\n",
    "from qiskit import(\n",
    "  QuantumCircuit,\n",
    "  execute,\n",
    "  Aer)\n",
    "from qiskit.visualization import plot_histogram\n",
    "\n",
    "#總共有 4 個 simulator backends\n",
    "# -qasm_simulator       : noisy quantum circuit\n",
    "# -statevector_simulator: ideal quantum circuit \n",
    "# -unitary_simulator    : ideal quantum circuit\n",
    "# -pulse_simulator      : pulse schedule\n",
    "# Use Aer's qasm_simulator\n",
    "simulator = Aer.get_backend('qasm_simulator')\n",
    "\n",
    "# Create a Quantum Circuit acting on the q register\n",
    "# 前面 qubit 數量，後面傳統 bit 數量 (zero state)\n",
    "circuit = QuantumCircuit(2, 2)\n",
    "\n",
    "# Add a H gate on qubit 0\n",
    "# (|0> + |1>)/sqrt(2) (0 與 1 的疊加態)\n",
    "circuit.h(0)\n",
    "\n",
    "# Add a CX (CNOT) gate on control qubit 0 and target qubit 1\n",
    "# 第一個 qubit = 0 -> 不做事，第一個 qubit = 1 -> 第二個要 not\n",
    "# |00> => |00>, |01> => |01>, |10> => |11>, |11> => |10>\n",
    "# 第二個 qubit = 0, [|00> => |00>, |10> => |11>]\n",
    "# 想法: 從 0 與 1 的疊加態，變成 00 與 11 疊加態\n",
    "# 實際運算看筆記\n",
    "circuit.cx(0, 1)\n",
    "\n",
    "# Map the quantum measurement to the classical bits\n",
    "# map qubit => classical bit\n",
    "circuit.measure([0,1], [0,1])\n",
    "\n",
    "# Execute the circuit on the qasm simulator\n",
    "job = execute(circuit, simulator, shots=1000)\n",
    "\n",
    "# Grab results from the job\n",
    "result = job.result()\n",
    "\n",
    "# Returns counts\n",
    "counts = result.get_counts(circuit)\n",
    "print(\"\\nTotal count for 00 and 11 are:\",counts)\n",
    "\n",
    "# Draw the circuit\n",
    "circuit.draw()"
   ]
  },
  {
   "cell_type": "code",
   "execution_count": 8,
   "metadata": {},
   "outputs": [
    {
     "data": {
      "image/png": "[encoded data removed]",
      "text/plain": [
       "<Figure size 504x360 with 1 Axes>"
      ]
     },
     "execution_count": 8,
     "metadata": {},
     "output_type": "execute_result"
    }
   ],
   "source": [
    "# Plot a histogram\n",
    "plot_histogram(counts)"
   ]
  },
  {
   "cell_type": "code",
   "execution_count": 12,
   "metadata": {},
   "outputs": [
    {
     "name": "stdout",
     "output_type": "stream",
     "text": [
      "Result are: {'10': 1024}\n"
     ]
    },
    {
     "data": {
      "image/png": "[encoded data removed]",
      "text/plain": [
       "<Figure size 780.192x204.68 with 1 Axes>"
      ]
     },
     "execution_count": 12,
     "metadata": {},
     "output_type": "execute_result"
    }
   ],
   "source": [
    "# Deutsch’s (DOIGE) algorithm\n",
    "# 問題: 有個黑盒子 1 bit -> 1 bit\n",
    "# 想問 f 是 constant(固定輸出 0) or balanced(動態輸出 XOR)\n",
    "\n",
    "simulator = Aer.get_backend('qasm_simulator')\n",
    "\n",
    "circuit = QuantumCircuit(2, 2)\n",
    "\n",
    "circuit.x(1) #(=Not gate) 讓 qubit 1 的輸入是 1\n",
    "circuit.barrier()\n",
    "circuit.h([0, 1]) # 0~1 都放上 H gates\n",
    "circuit.barrier()\n",
    "\n",
    "# Uf 的部分\n",
    "# 四種情況\n",
    "# 1:完全沒有 x=0, 1 -> 0 (constant)\n",
    "# 第一個 qubit = 0\n",
    "# 2:x = 0, 1 -> 1 (constant)\n",
    "# 第一個 qubit = 0\n",
    "circuit.x(1) \n",
    "# 3:x=(0,1) -> (0,1) (balanced)\n",
    "#circuit.cx(0, 1) \n",
    "# 4:x=(0,1) -> (1,0) (balanced)\n",
    "#circuit.cx(0, 1) \n",
    "#circuit.x(1)\n",
    "circuit.barrier()\n",
    "\n",
    "# 注意! cx, CNot 其實如下\n",
    "# [1 0 0 0]\n",
    "# [0 1 0 0]\n",
    "# [0 0 0 1]\n",
    "# [0 0 1 0]\n",
    "# |01> = [0100]T\n",
    "\n",
    "# final H gate\n",
    "# *H gate 除了會讓 000 變成疊加 -> 疊加態 inverse 也是 H 回推到 000 \n",
    "# 所以藉由 H gates 讓 ½(|00> + |01> - |10> - |11>)  變回 |10> \n",
    "circuit.h([0, 1])\n",
    "circuit.barrier()\n",
    "\n",
    "# Map the quantum measurement to the classical bits\n",
    "circuit.measure([0, 1], [0, 1])\n",
    "\n",
    "# Execute the circuit on the qasm simulator\n",
    "job = execute(circuit, simulator)\n",
    "\n",
    "# Grab results from the job\n",
    "result = job.result()\n",
    "\n",
    "# Returns counts\n",
    "counts = result.get_counts(circuit)\n",
    "print(\"Result are:\",counts)\n",
    "\n",
    "# Draw the circuit\n",
    "circuit.draw(output='mpl')\n",
    "# 順序 q1(y) q0(x) .."
   ]
  },
  {
   "cell_type": "code",
   "execution_count": null,
   "metadata": {},
   "outputs": [],
   "source": []
  }
 ],
 "metadata": {
  "kernelspec": {
   "display_name": "Python 3",
   "language": "python",
   "name": "python3"
  },
  "language_info": {
   "codemirror_mode": {
    "name": "ipython",
    "version": 3
   },
   "file_extension": ".py",
   "mimetype": "text/x-python",
   "name": "python",
   "nbconvert_exporter": "python",
   "pygments_lexer": "ipython3",
   "version": "3.7.7"
  }
 },
 "nbformat": 4,
 "nbformat_minor": 2
}
