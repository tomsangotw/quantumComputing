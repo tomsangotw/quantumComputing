{
 "cells": [
  {
   "cell_type": "code",
   "execution_count": 1,
   "metadata": {},
   "outputs": [],
   "source": [
    "import qiskit\n",
    "import numpy as np"
   ]
  },
  {
   "cell_type": "code",
   "execution_count": 2,
   "metadata": {},
   "outputs": [
    {
     "name": "stdout",
     "output_type": "stream",
     "text": [
      "[[1.]\n",
      " [0.]]\n"
     ]
    }
   ],
   "source": [
    "\"\"\" \n",
    "Quantum Computing in Python: Introduction\n",
    "http://dkopczyk.quantee.co.uk/quantum-computing-in-python-introduction/\n",
    "\n",
    "    |0> (col) \n",
    "    <0| (row)\n",
    "\"\"\"\n",
    "state_zero = np.array([\n",
    "    [1],\n",
    "    [0]\n",
    "], dtype=np.float64)\n",
    "print(state_zero)"
   ]
  },
  {
   "cell_type": "code",
   "execution_count": 3,
   "metadata": {},
   "outputs": [
    {
     "name": "stdout",
     "output_type": "stream",
     "text": [
      "[[0.]\n",
      " [1.]]\n"
     ]
    }
   ],
   "source": [
    "\"\"\"\n",
    "    |1>\n",
    "\"\"\"\n",
    "state_one = np.array([\n",
    "    [0],\n",
    "    [1]\n",
    "], dtype=np.float64)\n",
    "print(state_one)"
   ]
  },
  {
   "cell_type": "markdown",
   "metadata": {},
   "source": [
    "### Tensor product (這邊等同 Kronecker product)\n",
    "|011>\n",
    "![tensor product](http://dkopczyk.quantee.co.uk/wp-content/ql-cache/quicklatex.com-2b2475ecc276827f9d210ac1061c1391_l3.svg)\n",
    "差異參考\n",
    "https://math.stackexchange.com/questions/203947/tensor-product-and-kronecker-product  "
   ]
  },
  {
   "cell_type": "code",
   "execution_count": 4,
   "metadata": {},
   "outputs": [
    {
     "name": "stdout",
     "output_type": "stream",
     "text": [
      "[[0.]\n",
      " [0.]\n",
      " [0.]\n",
      " [1.]\n",
      " [0.]\n",
      " [0.]\n",
      " [0.]\n",
      " [0.]]\n"
     ]
    }
   ],
   "source": [
    "\"\"\"\n",
    "    所以 |01> 可用 np.kron(0, 1)\n",
    "\"\"\"\n",
    "def multi_kron(*args): #接受任意變數\n",
    "    ret = np.ones((1))\n",
    "    for q in args:\n",
    "        ret = np.kron(ret, q)\n",
    "    return ret\n",
    " \n",
    "state_multi = multi_kron(state_zero, state_one, state_one)\n",
    "print(state_multi)"
   ]
  },
  {
   "cell_type": "code",
   "execution_count": 5,
   "metadata": {},
   "outputs": [
    {
     "name": "stdout",
     "output_type": "stream",
     "text": [
      "[[0.]\n",
      " [1.]\n",
      " [0.]\n",
      " [0.]]\n",
      "[[1.]\n",
      " [0.]\n",
      " [0.]\n",
      " [0.]]\n"
     ]
    }
   ],
   "source": [
    "print(multi_kron(state_zero, state_one)) # |01>\n",
    "print(multi_kron(state_zero, state_zero)) # |00>"
   ]
  },
  {
   "cell_type": "code",
   "execution_count": 6,
   "metadata": {},
   "outputs": [
    {
     "name": "stdout",
     "output_type": "stream",
     "text": [
      "[[ 0.70710678  0.70710678]\n",
      " [ 0.70710678 -0.70710678]]\n"
     ]
    }
   ],
   "source": [
    "\"\"\"\n",
    "    Quantum Gates\n",
    "    \n",
    "    都要是 unitary matrices\n",
    "    UU^H = U^HU = I\n",
    "\"\"\"\n",
    "# 產生疊加態\n",
    "# 1 qubit gate\n",
    "Hadamard_Gate = 1./np.sqrt(2) * np.array([\n",
    "    [1., 1.],\n",
    "    [1.,-1.]\n",
    "])\n",
    "\n",
    "gate_I = np.eye(2);\n",
    "\n",
    "print(Hadamard_Gate)"
   ]
  },
  {
   "cell_type": "code",
   "execution_count": 7,
   "metadata": {},
   "outputs": [
    {
     "name": "stdout",
     "output_type": "stream",
     "text": [
      "[[0.70710678]\n",
      " [0.70710678]]\n",
      "[[1.]\n",
      " [0.]]\n"
     ]
    }
   ],
   "source": [
    "state_new = np.dot(Hadamard_Gate, state_zero)\n",
    "print(state_new) # = 1/sqrt(2) [1 0]^T + [0 1]^T, 像量變成單位長度\n",
    "print(np.dot(Hadamard_Gate, state_new)) # H^(-1) 就是 H 自身\n",
    "# 也可以想成球體轉回去"
   ]
  },
  {
   "cell_type": "code",
   "execution_count": 8,
   "metadata": {},
   "outputs": [
    {
     "name": "stdout",
     "output_type": "stream",
     "text": [
      "[[0.]\n",
      " [1.]\n",
      " [0.]\n",
      " [0.]]\n",
      "[[0.]\n",
      " [0.]\n",
      " [1.]\n",
      " [0.]]\n"
     ]
    }
   ],
   "source": [
    "# 2 qubit gate\n",
    "# swap gate\n",
    "SWAP_Gate = np.array([\n",
    "    [1, 0, 0, 0],\n",
    "    [0, 0, 1, 0],\n",
    "    [0, 1, 0, 0],\n",
    "    [0, 0, 0, 1]\n",
    "])\n",
    "\n",
    "# |01> -> [0100]T\n",
    "# |10> -> [0010]T\n",
    "state_twoQubit_t0 = multi_kron(state_zero, state_one)\n",
    "print(state_twoQubit_t0)\n",
    "state_twoQubit_t1 = np.dot(SWAP_Gate, state_twoQubit_t0)\n",
    "print(state_twoQubit_t1)"
   ]
  },
  {
   "cell_type": "code",
   "execution_count": 9,
   "metadata": {},
   "outputs": [
    {
     "name": "stdout",
     "output_type": "stream",
     "text": [
      "[[1. 0.]\n",
      " [0. 0.]]\n",
      "[[0. 0.]\n",
      " [0. 1.]]\n"
     ]
    }
   ],
   "source": [
    "\"\"\"\n",
    "    Measurement\n",
    "    \n",
    "    量測會讓結果依照積率坍縮 (collapses) 到特定 state\n",
    "    需要一個 projector\n",
    "    \n",
    "    P0 = |0><0|\n",
    "    P1 = |1><1|\n",
    "    \n",
    "    檢查特定 (0 or 1) state 的機率\n",
    "\"\"\"\n",
    "# Projectors\n",
    "P0 = np.dot(state_zero, state_zero.T)\n",
    "P1 = np.dot(state_one, state_one.T)\n",
    "print(P0)\n",
    "print(P1)"
   ]
  },
  {
   "cell_type": "code",
   "execution_count": 10,
   "metadata": {},
   "outputs": [
    {
     "name": "stdout",
     "output_type": "stream",
     "text": [
      "[[0.5]\n",
      " [0.5]\n",
      " [0. ]\n",
      " [0. ]]\n",
      "0.5\n",
      "Qubit Measured: \n",
      " 1 \n",
      " After-Measurment State: \n",
      " [[0.        ]\n",
      " [0.        ]\n",
      " [0.70710678]\n",
      " [0.70710678]]\n"
     ]
    }
   ],
   "source": [
    "# |Ψ (PSI)> = 1/2( |00> + |01> + |10> + |11> ) \n",
    "Hadamard_Gate_2_qubit = multi_kron(Hadamard_Gate, Hadamard_Gate)\n",
    "state = np.dot(Hadamard_Gate_2_qubit , multi_kron(state_zero, state_zero) )\n",
    "# [0.5, 0.5, 0.5, 0.5]T\n",
    "\n",
    "# Probability of first qubit being in state 0\n",
    "P0_2qubit = multi_kron(P0, gate_I)\n",
    "# [1 0 0 0]\n",
    "# [0 1 0 0]\n",
    "# [0 0 0 0]\n",
    "# [0 0 0 0]\n",
    "\n",
    "# 無法理解，但 Trace{ |Ψ><Ψ|P0^i } 可以當作 qubit i 的機率\n",
    "\n",
    "post_measurement = np.dot(P0_2qubit, state)\n",
    "print(post_measurement)\n",
    "\n",
    "prob0 = np.sum(post_measurement) / np.sum(state)\n",
    "print(prob0)\n",
    "\n",
    "# Simulate (由機率模擬量子的不確定性)(會是一個 uniform 0~1)\n",
    "if np.random.rand() < prob0:\n",
    "    ret = 0\n",
    "    state_ret = np.dot(multi_kron(P0, gate_I), state)\n",
    "else:\n",
    "    ret = 1\n",
    "    state_ret = np.dot(multi_kron(P1, gate_I), state) \n",
    "    \n",
    "# Normalize\n",
    "from scipy import linalg\n",
    "state_ret /= linalg.norm(state_ret)\n",
    " \n",
    "print(\"Qubit Measured: \\n {} \\n After-Measurment State: \\n {}\".format(ret, state_ret))\n",
    "\n"
   ]
  },
  {
   "cell_type": "code",
   "execution_count": null,
   "metadata": {},
   "outputs": [],
   "source": []
  },
  {
   "cell_type": "code",
   "execution_count": 11,
   "metadata": {},
   "outputs": [],
   "source": [
    "\"\"\" \n",
    "Quantum Entanglement for Computer Scientists\n",
    "http://dkopczyk.quantee.co.uk/quantum-entanglement/\n",
    "\n",
    "Ψ (PSI) = (1/2)(|00> + |01> + |10> + |11>)\n",
    "φ (PHI) = (1/sqrt(2))(|01> + |10>)\n",
    "\"\"\"\n",
    "\n",
    "psi = 0.5 * (multi_kron(state_zero, state_zero) + multi_kron(state_zero, state_one) +\n",
    "             multi_kron(state_one, state_zero) + multi_kron(state_one, state_one))\n",
    "phi = 1.0 / 2**0.5 * (multi_kron(state_zero, state_one) +  multi_kron(state_one, state_zero))\n"
   ]
  },
  {
   "cell_type": "code",
   "execution_count": 12,
   "metadata": {},
   "outputs": [],
   "source": [
    "# Function measuring both qubits\n",
    "def measure_two(state):\n",
    "    # Probability of first qubit being in state 0\n",
    "    rho_1 = np.dot(state, state.T)\n",
    "    prob0_1 = np.trace(np.dot(multi_kron(P0, gate_I), rho_1))\n",
    "    \n",
    "    # Simulate\n",
    "    if np.random.rand() < prob0_1:\n",
    "        ret = '0'\n",
    "        state_ret_1 = np.dot(multi_kron(P0, gate_I), state)\n",
    "    else:\n",
    "        ret = '1'\n",
    "        state_ret_1 = np.dot(multi_kron(P1, gate_I), state) \n",
    "        \n",
    "    # Normalize\n",
    "    state_ret_1 /= linalg.norm(state_ret_1)\n",
    "    \n",
    "    # Probability of second qubit being in state 0\n",
    "    rho_2 = np.dot(state_ret_1, state_ret_1.T)\n",
    "    prob0_2 = np.trace(np.dot(multi_kron(gate_I, P0), rho_2))\n",
    "    \n",
    "    # Simulate\n",
    "    if np.random.rand() < prob0_2:\n",
    "        ret += '0'\n",
    "        state_ret_2 = np.dot(multi_kron(gate_I, P0), state_ret_1)\n",
    "    else:\n",
    "        ret += '1'\n",
    "        state_ret_2 = np.dot(multi_kron(gate_I, P1), state_ret_1) \n",
    "        \n",
    "    # Normalize\n",
    "    state_ret_2 /= linalg.norm(state_ret_2)\n",
    "    \n",
    "    return ret, state_ret_2"
   ]
  },
  {
   "cell_type": "code",
   "execution_count": 13,
   "metadata": {},
   "outputs": [
    {
     "name": "stdout",
     "output_type": "stream",
     "text": [
      "Qubit Measured: \n",
      " 10 \n",
      " After-Measurment State: \n",
      " [[0.]\n",
      " [0.]\n",
      " [1.]\n",
      " [0.]]\n",
      "Empirical probabilities 00, 01, 10, 11: [0.2561 0.2402 0.2526 0.2511]\n"
     ]
    }
   ],
   "source": [
    "# Measure both qubits in psi\n",
    "# Ψ (PSI) = (1/2)(|00> + |01> + |10> + |11>)\n",
    "# 個積率結果 = 1/4\n",
    "ret, state_ret = measure_two(psi)                   \n",
    "print(\"Qubit Measured: \\n {} \\n After-Measurment State: \\n {}\".format(ret, state_ret))\n",
    "\n",
    "# See probabilities\n",
    "acc = []\n",
    "for i in range(10**4): #次數夠多就會接近 1/4\n",
    "    _, state_ret = measure_two(psi)\n",
    "    acc.append(state_ret)\n",
    "prob = np.array(acc).mean(axis=0).ravel()\n",
    "print('Empirical probabilities 00, 01, 10, 11: {}'.format(prob))"
   ]
  },
  {
   "cell_type": "code",
   "execution_count": 14,
   "metadata": {},
   "outputs": [
    {
     "name": "stdout",
     "output_type": "stream",
     "text": [
      "Qubit Measured: \n",
      " 01 \n",
      " After-Measurment State: \n",
      " [[0.]\n",
      " [1.]\n",
      " [0.]\n",
      " [0.]]\n",
      "Empirical probabilities 00, 01, 10, 11: [0.     0.5021 0.4979 0.    ]\n"
     ]
    }
   ],
   "source": [
    "# Measure both qubits in phi\n",
    "# φ (PHI) = (1/sqrt(2))(|01> + |10>)\n",
    "# 只會有 |01> 與 |10> 各 1/2 機率\n",
    "# 重點: 第一個為 qubit = 0 則第二個 qubit 必為 1 (量子糾纏的部分)\n",
    "ret, state_ret = measure_two(phi)                   \n",
    "print(\"Qubit Measured: \\n {} \\n After-Measurment State: \\n {}\".format(ret, state_ret))\n",
    "\n",
    "# See probabilities\n",
    "acc = []\n",
    "for i in range(10**4): #會接近 0.5\n",
    "    _, state_ret = measure_two(phi)\n",
    "    acc.append(state_ret)\n",
    "prob = np.array(acc).mean(axis=0).ravel()\n",
    "print('Empirical probabilities 00, 01, 10, 11: {}'.format(prob))\n",
    "\n",
    "# 有無 entanglement 取決於能否寫成 tensor product"
   ]
  },
  {
   "cell_type": "code",
   "execution_count": null,
   "metadata": {},
   "outputs": [],
   "source": []
  },
  {
   "cell_type": "code",
   "execution_count": null,
   "metadata": {},
   "outputs": [],
   "source": [
    "\"\"\" \n",
    "Quantum algorithms: Deutsch’s (DOIGE) algorithm\n",
    "http://dkopczyk.quantee.co.uk/deutschs-algorithm/\n",
    "\n",
    "\"\"\""
   ]
  },
  {
   "cell_type": "code",
   "execution_count": 17,
   "metadata": {},
   "outputs": [
    {
     "name": "stdout",
     "output_type": "stream",
     "text": [
      "[[0.]\n",
      " [0.]\n",
      " [0.]\n",
      " [1.]\n",
      " [0.]\n",
      " [0.]\n",
      " [0.]\n",
      " [0.]]\n",
      "[[ 0.35355339]\n",
      " [-0.35355339]\n",
      " [-0.35355339]\n",
      " [ 0.35355339]\n",
      " [ 0.35355339]\n",
      " [-0.35355339]\n",
      " [-0.35355339]\n",
      " [ 0.35355339]]\n"
     ]
    }
   ],
   "source": [
    "# 測試 Hadamard gate 性質\n",
    "# |011> 經過 H\n",
    "# H|0> = (|0>+|1>)\n",
    "# H|1> = (|0>-|1>)\n",
    "# => 1/sqrt(8)(|0>+|1>)(|0>-|1>)(|0>-|1>)\n",
    "# => 1/sqrt(8)(|000> - |001> - |010> + |011> + ... + |111>)\n",
    "# 注意負號分配的部分，只有 |1> 有負號 !!\n",
    "# *1/sqrt(8) = 0.35355 \n",
    "\n",
    "state_011 = multi_kron(state_zero, state_one, state_one)\n",
    "print(state_011)\n",
    "Hadamard_Gate_3_qubit = multi_kron(Hadamard_Gate, Hadamard_Gate, Hadamard_Gate)\n",
    "#print(Hadamard_Gate_3_qubit)\n",
    "result = np.dot(Hadamard_Gate_3_qubit, state_011)\n",
    "print(result)"
   ]
  },
  {
   "cell_type": "code",
   "execution_count": null,
   "metadata": {},
   "outputs": [],
   "source": [
    "# Deutsch’s (DOIGE) algorithm\n",
    "# 問題: 有個黑盒子 1 bit -> 1 bit\n",
    "# 想問 f 是 constant(固定輸出 0) or balanced(動態輸出 XOR)\n"
   ]
  }
 ],
 "metadata": {
  "kernelspec": {
   "display_name": "Python 3",
   "language": "python",
   "name": "python3"
  },
  "language_info": {
   "codemirror_mode": {
    "name": "ipython",
    "version": 3
   },
   "file_extension": ".py",
   "mimetype": "text/x-python",
   "name": "python",
   "nbconvert_exporter": "python",
   "pygments_lexer": "ipython3",
   "version": "3.7.4"
  }
 },
 "nbformat": 4,
 "nbformat_minor": 2
}
